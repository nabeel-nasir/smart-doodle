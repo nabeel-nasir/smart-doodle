{
 "cells": [
  {
   "cell_type": "code",
   "execution_count": 1,
   "metadata": {},
   "outputs": [
    {
     "name": "stderr",
     "output_type": "stream",
     "text": [
      "/anaconda3/lib/python3.6/site-packages/h5py/__init__.py:36: FutureWarning: Conversion of the second argument of issubdtype from `float` to `np.floating` is deprecated. In future, it will be treated as `np.float64 == np.dtype(float).type`.\n",
      "  from ._conv import register_converters as _register_converters\n"
     ]
    }
   ],
   "source": [
    "import tensorflow as tf\n",
    "from tensorflow import keras\n",
    "from tensorflow.contrib import lite\n",
    "import ndjson\n",
    "import numpy as np\n",
    "# np.set_printoptions(threshold=np.inf)\n",
    "\n",
    "coord_space_size = 400\n",
    "scale_factor = 10\n",
    "new_size = int(coord_space_size/scale_factor) #will be 40 if sf = 10\n",
    "\n",
    "def load_ndjson_dataset(filename):\n",
    "    with open(filename) as f:\n",
    "        data = ndjson.load(f)\n",
    "    return(data)\n",
    "\n",
    "def parse_points(points):\n",
    "    xMin = coord_space_size\n",
    "    yMin = coord_space_size\n",
    "    for point in points:\n",
    "        if point[0] < xMin:\n",
    "            xMin = point[0]\n",
    "        if point[1] < yMin:\n",
    "            yMin = point[1]\n",
    "    arr = np.zeros((new_size,new_size), dtype=int)  # Initialize numpy array\n",
    "    for point in points:\n",
    "        x = point[0]\n",
    "        y = point[1]\n",
    "\n",
    "        x = int((x - xMin) / scale_factor);\n",
    "        y = int((y - yMin) / scale_factor);\n",
    "\n",
    "        #flip (x,y) since the android screen follows 3rd quadrant\n",
    "        arr[y,x] = 1\n",
    "    return(arr)\n",
    "    \n",
    "\n",
    "def parse_ndjson_data(ndjson_data):\n",
    "    parsed_data = {}\n",
    "    m=len(ndjson_data)\n",
    "    labels=np.zeros(m, dtype=int)\n",
    "    data=np.zeros((m, new_size*new_size), dtype=int)\n",
    "    for index, data_row_json in enumerate(ndjson_data):\n",
    "        points = data_row_json[\"points\"]\n",
    "        label = data_row_json[\"class\"]\n",
    "        parsed_points = parse_points(points)\n",
    "\n",
    "        labels[index] = label\n",
    "        data[index] = parsed_points.flatten()\n",
    "    parsed_data[\"data\"] = data\n",
    "    parsed_data[\"labels\"] = labels\n",
    "    return(parsed_data)\n",
    "\n",
    "ndjson_data = load_ndjson_dataset(\"dataset/data.ndjson\")\n",
    "doodle_data=parse_ndjson_data(ndjson_data)"
   ]
  },
  {
   "cell_type": "markdown",
   "metadata": {},
   "source": [
    "## Dataset "
   ]
  },
  {
   "cell_type": "markdown",
   "metadata": {},
   "source": [
    "Each 40x40 image is represented as a 1D array of 1600 entries. There are 3 labels right now and each label has 15 instances. Hence the shape is 45x1600"
   ]
  },
  {
   "cell_type": "code",
   "execution_count": 2,
   "metadata": {},
   "outputs": [
    {
     "name": "stdout",
     "output_type": "stream",
     "text": [
      "(100, 1600)\n"
     ]
    }
   ],
   "source": [
    "print(doodle_data[\"data\"].shape)"
   ]
  },
  {
   "cell_type": "code",
   "execution_count": 3,
   "metadata": {},
   "outputs": [
    {
     "name": "stdout",
     "output_type": "stream",
     "text": [
      "(100,)\n"
     ]
    }
   ],
   "source": [
    "print(doodle_data[\"labels\"].shape)"
   ]
  },
  {
   "cell_type": "markdown",
   "metadata": {},
   "source": [
    "## Labels"
   ]
  },
  {
   "cell_type": "markdown",
   "metadata": {},
   "source": [
    "We have 3 different labels now."
   ]
  },
  {
   "cell_type": "markdown",
   "metadata": {},
   "source": [
    "### Label 1 - Circle"
   ]
  },
  {
   "cell_type": "code",
   "execution_count": 4,
   "metadata": {},
   "outputs": [
    {
     "data": {
      "image/png": "[encoded data removed]",
      "text/plain": [
       "<Figure size 432x288 with 1 Axes>"
      ]
     },
     "metadata": {},
     "output_type": "display_data"
    }
   ],
   "source": [
    "%matplotlib inline\n",
    "import matplotlib\n",
    "import matplotlib.pyplot as plt\n",
    "\n",
    "def draw_doodle(some_doodle):\n",
    "    some_doodle_image = some_doodle.reshape(40, 40)\n",
    "    plt.imshow(some_doodle_image, cmap = matplotlib.cm.binary, interpolation=\"nearest\")\n",
    "    plt.axis(\"off\")\n",
    "    plt.show()\n",
    "draw_doodle(doodle_data[\"data\"][0])"
   ]
  },
  {
   "cell_type": "markdown",
   "metadata": {},
   "source": [
    "### Label 2 - V shape"
   ]
  },
  {
   "cell_type": "code",
   "execution_count": 5,
   "metadata": {},
   "outputs": [
    {
     "data": {
      "image/png": "[encoded data removed]",
      "text/plain": [
       "<Figure size 432x288 with 1 Axes>"
      ]
     },
     "metadata": {},
     "output_type": "display_data"
    }
   ],
   "source": [
    "draw_doodle(doodle_data[\"data\"][15])"
   ]
  },
  {
   "cell_type": "markdown",
   "metadata": {},
   "source": [
    "### Label 3 - ~ shape"
   ]
  },
  {
   "cell_type": "code",
   "execution_count": 6,
   "metadata": {},
   "outputs": [
    {
     "data": {
      "image/png": "[encoded data removed]",
      "text/plain": [
       "<Figure size 432x288 with 1 Axes>"
      ]
     },
     "metadata": {},
     "output_type": "display_data"
    }
   ],
   "source": [
    "draw_doodle(doodle_data[\"data\"][31])"
   ]
  },
  {
   "cell_type": "code",
   "execution_count": 7,
   "metadata": {},
   "outputs": [
    {
     "name": "stdout",
     "output_type": "stream",
     "text": [
      "(75, 1600)\n",
      "(25, 1600)\n",
      "(75,)\n",
      "(25,)\n"
     ]
    }
   ],
   "source": [
    "rows = doodle_data[\"data\"].shape[0]\n",
    "# no_of_test_examples_per_class = 2\n",
    "num_classes = 5\n",
    "# total_train_examples = rows - (no_of_test_examples_per_class * num_classes)\n",
    "X, y = doodle_data[\"data\"], doodle_data[\"labels\"]\n",
    "# shuffle_index = np.random.permutation(rows)\n",
    "# X, y = X[shuffle_index], y[shuffle_index]\n",
    "# X_train, X_test = X[:total_train_examples], X[total_train_examples:]\n",
    "# y_train, y_test = y[:total_train_examples], y[total_train_examples:]\n",
    "\n",
    "# print(y_train)\n",
    "# print(y_test)\n",
    "\n",
    "from sklearn.model_selection import train_test_split\n",
    "X_train, X_test, y_train, y_test = train_test_split(X, y,\n",
    "                                                stratify=y, \n",
    "                                                test_size=0.25,\n",
    "                                                random_state=42)\n",
    "\n",
    "print(X_train.shape)\n",
    "print(X_test.shape)\n",
    "print(y_train.shape)\n",
    "print(y_test.shape)"
   ]
  },
  {
   "cell_type": "code",
   "execution_count": 8,
   "metadata": {},
   "outputs": [
    {
     "data": {
      "text/plain": [
       "array([3, 3, 3, 3, 1, 1, 0, 3, 0, 2, 1, 4, 1, 4, 1, 2, 1, 3, 0, 1, 4, 1,\n",
       "       0, 0, 2, 4, 3, 3, 3, 2, 3, 1, 3, 3, 0, 0, 3, 2, 4, 4, 1, 1, 2, 2,\n",
       "       4, 2, 1, 1, 3, 4, 2, 0, 4, 4, 0, 1, 2, 2, 2, 0, 3, 2, 4, 2, 4, 0,\n",
       "       4, 0, 0, 0, 4, 4, 2, 0, 1])"
      ]
     },
     "execution_count": 8,
     "metadata": {},
     "output_type": "execute_result"
    }
   ],
   "source": [
    "y_train"
   ]
  },
  {
   "cell_type": "code",
   "execution_count": 9,
   "metadata": {},
   "outputs": [
    {
     "data": {
      "text/plain": [
       "array([3, 4, 2, 1, 0, 0, 2, 3, 0, 3, 4, 1, 4, 4, 0, 1, 2, 3, 0, 1, 2, 3,\n",
       "       4, 2, 1])"
      ]
     },
     "execution_count": 9,
     "metadata": {},
     "output_type": "execute_result"
    }
   ],
   "source": [
    "y_test"
   ]
  },
  {
   "cell_type": "code",
   "execution_count": 10,
   "metadata": {},
   "outputs": [
    {
     "data": {
      "text/plain": [
       "KNeighborsClassifier(algorithm='auto', leaf_size=30, metric='minkowski',\n",
       "           metric_params=None, n_jobs=-1, n_neighbors=4, p=2,\n",
       "           weights='distance')"
      ]
     },
     "execution_count": 10,
     "metadata": {},
     "output_type": "execute_result"
    }
   ],
   "source": [
    "from sklearn.neighbors import KNeighborsClassifier\n",
    "knn_clf = KNeighborsClassifier(n_jobs=-1, weights='distance', n_neighbors=4)\n",
    "knn_clf.fit(X_train, y_train)"
   ]
  },
  {
   "cell_type": "code",
   "execution_count": 11,
   "metadata": {},
   "outputs": [],
   "source": [
    "y_knn_pred = knn_clf.predict(X_test)"
   ]
  },
  {
   "cell_type": "code",
   "execution_count": 12,
   "metadata": {},
   "outputs": [
    {
     "name": "stdout",
     "output_type": "stream",
     "text": [
      "accuracy = 0.56\n"
     ]
    },
    {
     "data": {
      "text/plain": [
       "array([[0, 0, 1, 0, 4],\n",
       "       [0, 4, 0, 0, 1],\n",
       "       [0, 0, 5, 0, 0],\n",
       "       [0, 0, 0, 0, 5],\n",
       "       [0, 0, 0, 0, 5]])"
      ]
     },
     "execution_count": 12,
     "metadata": {},
     "output_type": "execute_result"
    }
   ],
   "source": [
    "from sklearn.metrics import accuracy_score\n",
    "from sklearn.metrics import precision_score\n",
    "from sklearn.metrics import recall_score\n",
    "from sklearn.metrics import confusion_matrix\n",
    "print(\"accuracy = {}\".format(accuracy_score(y_test, y_knn_pred)))\n",
    "# print(\"precision = {}\".format(precision_score(y_test, y_knn_pred)))\n",
    "# print(\"recall = {}\".format(recall_score(y_test, y_knn_pred)))\n",
    "confusion_matrix(y_test, y_knn_pred)"
   ]
  },
  {
   "cell_type": "code",
   "execution_count": 13,
   "metadata": {},
   "outputs": [
    {
     "name": "stdout",
     "output_type": "stream",
     "text": [
      "             precision    recall  f1-score   support\n",
      "\n",
      "     circle       0.00      0.00      0.00         5\n",
      "          V       1.00      0.80      0.89         5\n",
      "          ~       0.83      1.00      0.91         5\n",
      "\n",
      "avg / total       0.43      0.56      0.46        25\n",
      "\n"
     ]
    },
    {
     "name": "stderr",
     "output_type": "stream",
     "text": [
      "/anaconda3/lib/python3.6/site-packages/sklearn/metrics/classification.py:1428: UserWarning: labels size, 5, does not match size of target_names, 3\n",
      "  .format(len(labels), len(target_names))\n",
      "/anaconda3/lib/python3.6/site-packages/sklearn/metrics/classification.py:1135: UndefinedMetricWarning: Precision and F-score are ill-defined and being set to 0.0 in labels with no predicted samples.\n",
      "  'precision', 'predicted', average, warn_for)\n"
     ]
    }
   ],
   "source": [
    "from sklearn.metrics import classification_report\n",
    "target_names = ['circle', 'V', '~']\n",
    "print(classification_report(y_test, y_knn_pred, target_names=target_names))"
   ]
  },
  {
   "cell_type": "code",
   "execution_count": 14,
   "metadata": {},
   "outputs": [],
   "source": [
    "model = keras.Sequential([\n",
    "    keras.layers.Flatten(input_shape=(40, 40)),\n",
    "    keras.layers.Dense(512, activation=tf.nn.relu),\n",
    "    keras.layers.Dense(num_classes, activation=tf.nn.softmax)\n",
    "])"
   ]
  },
  {
   "cell_type": "code",
   "execution_count": 15,
   "metadata": {},
   "outputs": [
    {
     "data": {
      "text/plain": [
       "(75, 40, 40)"
      ]
     },
     "execution_count": 15,
     "metadata": {},
     "output_type": "execute_result"
    }
   ],
   "source": [
    "model.compile(optimizer=keras.optimizers.Adam(), \n",
    "              loss='sparse_categorical_crossentropy',\n",
    "              metrics=['accuracy'])\n",
    "X_train=X_train.reshape(X_train.shape[0], 40, 40)\n",
    "X_test=X_test.reshape(X_test.shape[0], 40, 40)\n",
    "X_train.shape"
   ]
  },
  {
   "cell_type": "code",
   "execution_count": 16,
   "metadata": {},
   "outputs": [
    {
     "name": "stdout",
     "output_type": "stream",
     "text": [
      "Epoch 1/5\n",
      "75/75 [==============================] - 0s 3ms/step - loss: 1.5731 - acc: 0.3467\n",
      "Epoch 2/5\n",
      "75/75 [==============================] - 0s 245us/step - loss: 1.2067 - acc: 1.0000\n",
      "Epoch 3/5\n",
      "75/75 [==============================] - 0s 222us/step - loss: 0.9055 - acc: 1.0000\n",
      "Epoch 4/5\n",
      "75/75 [==============================] - 0s 285us/step - loss: 0.6625 - acc: 1.0000\n",
      "Epoch 5/5\n",
      "75/75 [==============================] - 0s 270us/step - loss: 0.4688 - acc: 1.0000\n"
     ]
    },
    {
     "data": {
      "text/plain": [
       "<tensorflow.python.keras.callbacks.History at 0x1c299e2588>"
      ]
     },
     "execution_count": 16,
     "metadata": {},
     "output_type": "execute_result"
    }
   ],
   "source": [
    "model.fit(X_train, y_train, epochs=5)"
   ]
  },
  {
   "cell_type": "code",
   "execution_count": 17,
   "metadata": {},
   "outputs": [
    {
     "name": "stdout",
     "output_type": "stream",
     "text": [
      "25/25 [==============================] - 0s 2ms/step\n",
      "Test accuracy: 0.9200000166893005\n"
     ]
    }
   ],
   "source": [
    "test_loss, test_acc = model.evaluate(X_test, y_test)\n",
    "\n",
    "print('Test accuracy:', test_acc)"
   ]
  },
  {
   "cell_type": "code",
   "execution_count": 18,
   "metadata": {},
   "outputs": [
    {
     "name": "stdout",
     "output_type": "stream",
     "text": [
      "INFO:tensorflow:Froze 4 variables.\n",
      "INFO:tensorflow:Converted 4 variables to const ops.\n"
     ]
    },
    {
     "data": {
      "text/plain": [
       "3290180"
      ]
     },
     "execution_count": 18,
     "metadata": {},
     "output_type": "execute_result"
    }
   ],
   "source": [
    "keras_file = \"linear.h5\"\n",
    "keras.models.save_model(model, keras_file)\n",
    "\n",
    "# convert the Keras file to tensorflow lite file\n",
    "converter = lite.TFLiteConverter.from_keras_model_file(keras_file)\n",
    "tflite_model = converter.convert()\n",
    "open(\"linear.tflite\", \"wb\").write(tflite_model)"
   ]
  },
  {
   "cell_type": "code",
   "execution_count": null,
   "metadata": {},
   "outputs": [],
   "source": []
  }
 ],
 "metadata": {
  "kernelspec": {
   "display_name": "Python 3",
   "language": "python",
   "name": "python3"
  },
  "language_info": {
   "codemirror_mode": {
    "name": "ipython",
    "version": 3
   },
   "file_extension": ".py",
   "mimetype": "text/x-python",
   "name": "python",
   "nbconvert_exporter": "python",
   "pygments_lexer": "ipython3",
   "version": "3.6.5"
  }
 },
 "nbformat": 4,
 "nbformat_minor": 2
}
