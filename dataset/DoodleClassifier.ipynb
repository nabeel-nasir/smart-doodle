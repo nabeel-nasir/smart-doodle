{
 "cells": [
  {
   "cell_type": "code",
   "execution_count": 1,
   "metadata": {},
   "outputs": [],
   "source": [
    "import ndjson\n",
    "import numpy as np\n",
    "# np.set_printoptions(threshold=np.inf)"
   ]
  },
  {
   "cell_type": "code",
   "execution_count": 6,
   "metadata": {},
   "outputs": [
    {
     "name": "stdout",
     "output_type": "stream",
     "text": [
      "(45,)\n"
     ]
    }
   ],
   "source": [
    "coord_space_size = 400\n",
    "scale_factor = 10\n",
    "new_size = int(coord_space_size/scale_factor) #will be 40 if sf = 10\n",
    "\n",
    "def load_ndjson_dataset(filename):\n",
    "    with open(filename) as f:\n",
    "        data = ndjson.load(f)\n",
    "    return(data)\n",
    "\n",
    "def parse_points(points):\n",
    "    xMin = coord_space_size\n",
    "    yMin = coord_space_size\n",
    "    for point in points:\n",
    "        if point[0] < xMin:\n",
    "            xMin = point[0]\n",
    "        if point[1] < yMin:\n",
    "            yMin = point[1]\n",
    "    arr = np.zeros((new_size,new_size), dtype=int)  # Initialize numpy array\n",
    "    for point in points:\n",
    "        x = point[0]\n",
    "        y = point[1]\n",
    "\n",
    "        x = int((x - xMin) / scale_factor);\n",
    "        y = int((y - yMin) / scale_factor);\n",
    "\n",
    "        #flip (x,y) since the android screen follows 3rd quadrant\n",
    "        arr[y,x] = 1\n",
    "    return(arr)\n",
    "    \n",
    "\n",
    "def parse_ndjson_data(ndjson_data):\n",
    "    parsed_data = {}\n",
    "    m=len(ndjson_data)\n",
    "    labels=np.zeros(m, dtype=int)\n",
    "    data=np.zeros((m, new_size*new_size), dtype=int)\n",
    "    for index, data_row_json in enumerate(ndjson_data):\n",
    "        points = data_row_json[\"points\"]\n",
    "        label = data_row_json[\"class\"]\n",
    "        parsed_points = parse_points(points)\n",
    "\n",
    "        labels[index] = label\n",
    "        data[index] = parsed_points.flatten()\n",
    "    parsed_data[\"data\"] = data\n",
    "    parsed_data[\"labels\"] = labels\n",
    "    return(parsed_data)\n",
    "\n",
    "ndjson_data = load_ndjson_dataset(\"data.ndjson\")\n",
    "x=parse_ndjson_data(ndjson_data)"
   ]
  },
  {
   "cell_type": "markdown",
   "metadata": {},
   "source": [
    "Each 40x40 image is represented as a 1D array of 1600 entries. There are 3 labels right now and each label has 15 instances. Hence the shape is 45x1600"
   ]
  },
  {
   "cell_type": "code",
   "execution_count": 8,
   "metadata": {},
   "outputs": [
    {
     "name": "stdout",
     "output_type": "stream",
     "text": [
      "(45, 1600)\n"
     ]
    }
   ],
   "source": [
    "print(x[\"data\"].shape)"
   ]
  },
  {
   "cell_type": "code",
   "execution_count": null,
   "metadata": {},
   "outputs": [],
   "source": []
  }
 ],
 "metadata": {
  "kernelspec": {
   "display_name": "Python 3",
   "language": "python",
   "name": "python3"
  },
  "language_info": {
   "codemirror_mode": {
    "name": "ipython",
    "version": 3
   },
   "file_extension": ".py",
   "mimetype": "text/x-python",
   "name": "python",
   "nbconvert_exporter": "python",
   "pygments_lexer": "ipython3",
   "version": "3.7.0"
  }
 },
 "nbformat": 4,
 "nbformat_minor": 2
}
